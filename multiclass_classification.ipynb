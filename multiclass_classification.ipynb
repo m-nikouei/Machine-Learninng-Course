{
 "cells": [
  {
   "cell_type": "markdown",
   "id": "a7d81fdf",
   "metadata": {},
   "source": [
    "## Multiclass Classification\n",
    "When number of classes are more than 2, the problem becomes multiclass classification. In this notebook, we use R. A. Fisher's Iris Flowers dataset as a three-class classification problem.\n",
    "\n",
    "### Problem Statement\n",
    "Given 4 diffferent properites of the Iris flowers, can you create a predictive model to predict their types.\n",
    "\n",
    "### Attribute Information\n",
    "1. sepal length in cm\n",
    "2. sepal width in cm\n",
    "3. petal length in cm\n",
    "4. petal width in cm\n",
    "5. class: Iris Setosa,Iris Versicolour,Iris Virginica"
   ]
  },
  {
   "cell_type": "markdown",
   "id": "c34e4279",
   "metadata": {},
   "source": [
    "### Let's have look at the data!"
   ]
  },
  {
   "cell_type": "code",
   "execution_count": 88,
   "id": "fc774ea5",
   "metadata": {
    "scrolled": true
   },
   "outputs": [
    {
     "name": "stdout",
     "output_type": "stream",
     "text": [
      "(150, 5)\n",
      "<class 'pandas.core.frame.DataFrame'>\n",
      "RangeIndex: 150 entries, 0 to 149\n",
      "Data columns (total 5 columns):\n",
      " #   Column               Non-Null Count  Dtype  \n",
      "---  ------               --------------  -----  \n",
      " 0   sepal length in cm   150 non-null    float64\n",
      " 1   sepal width in cm    150 non-null    float64\n",
      " 2   petal length in cm   150 non-null    float64\n",
      " 3   petal width in cm    150 non-null    float64\n",
      " 4   class                150 non-null    object \n",
      "dtypes: float64(4), object(1)\n",
      "memory usage: 6.0+ KB\n",
      "None\n"
     ]
    },
    {
     "data": {
      "text/html": [
       "<div>\n",
       "<style scoped>\n",
       "    .dataframe tbody tr th:only-of-type {\n",
       "        vertical-align: middle;\n",
       "    }\n",
       "\n",
       "    .dataframe tbody tr th {\n",
       "        vertical-align: top;\n",
       "    }\n",
       "\n",
       "    .dataframe thead th {\n",
       "        text-align: right;\n",
       "    }\n",
       "</style>\n",
       "<table border=\"1\" class=\"dataframe\">\n",
       "  <thead>\n",
       "    <tr style=\"text-align: right;\">\n",
       "      <th></th>\n",
       "      <th>sepal length in cm</th>\n",
       "      <th>sepal width in cm</th>\n",
       "      <th>petal length in cm</th>\n",
       "      <th>petal width in cm</th>\n",
       "      <th>class</th>\n",
       "    </tr>\n",
       "  </thead>\n",
       "  <tbody>\n",
       "    <tr>\n",
       "      <th>0</th>\n",
       "      <td>5.1</td>\n",
       "      <td>3.5</td>\n",
       "      <td>1.4</td>\n",
       "      <td>0.2</td>\n",
       "      <td>Iris-setosa</td>\n",
       "    </tr>\n",
       "    <tr>\n",
       "      <th>1</th>\n",
       "      <td>4.9</td>\n",
       "      <td>3.0</td>\n",
       "      <td>1.4</td>\n",
       "      <td>0.2</td>\n",
       "      <td>Iris-setosa</td>\n",
       "    </tr>\n",
       "    <tr>\n",
       "      <th>2</th>\n",
       "      <td>4.7</td>\n",
       "      <td>3.2</td>\n",
       "      <td>1.3</td>\n",
       "      <td>0.2</td>\n",
       "      <td>Iris-setosa</td>\n",
       "    </tr>\n",
       "    <tr>\n",
       "      <th>3</th>\n",
       "      <td>4.6</td>\n",
       "      <td>3.1</td>\n",
       "      <td>1.5</td>\n",
       "      <td>0.2</td>\n",
       "      <td>Iris-setosa</td>\n",
       "    </tr>\n",
       "    <tr>\n",
       "      <th>4</th>\n",
       "      <td>5.0</td>\n",
       "      <td>3.6</td>\n",
       "      <td>1.4</td>\n",
       "      <td>0.2</td>\n",
       "      <td>Iris-setosa</td>\n",
       "    </tr>\n",
       "  </tbody>\n",
       "</table>\n",
       "</div>"
      ],
      "text/plain": [
       "   sepal length in cm  sepal width in cm  petal length in cm   \\\n",
       "0                 5.1                3.5                  1.4   \n",
       "1                 4.9                3.0                  1.4   \n",
       "2                 4.7                3.2                  1.3   \n",
       "3                 4.6                3.1                  1.5   \n",
       "4                 5.0                3.6                  1.4   \n",
       "\n",
       "   petal width in cm         class  \n",
       "0                 0.2  Iris-setosa  \n",
       "1                 0.2  Iris-setosa  \n",
       "2                 0.2  Iris-setosa  \n",
       "3                 0.2  Iris-setosa  \n",
       "4                 0.2  Iris-setosa  "
      ]
     },
     "execution_count": 88,
     "metadata": {},
     "output_type": "execute_result"
    }
   ],
   "source": [
    "import pandas as pd\n",
    "import numpy as np\n",
    "np.random.seed(42)\n",
    "\n",
    "df = pd.read_csv('iris.data.csv')\n",
    "print(df.shape)\n",
    "print(df.info())\n",
    "df.head()"
   ]
  },
  {
   "cell_type": "markdown",
   "id": "0d621060",
   "metadata": {},
   "source": [
    "### Is there any missing data?\n",
    "Remeber this code from Ensemble notebook?"
   ]
  },
  {
   "cell_type": "code",
   "execution_count": 89,
   "id": "0d79347f",
   "metadata": {},
   "outputs": [
    {
     "data": {
      "text/html": [
       "<div>\n",
       "<style scoped>\n",
       "    .dataframe tbody tr th:only-of-type {\n",
       "        vertical-align: middle;\n",
       "    }\n",
       "\n",
       "    .dataframe tbody tr th {\n",
       "        vertical-align: top;\n",
       "    }\n",
       "\n",
       "    .dataframe thead th {\n",
       "        text-align: right;\n",
       "    }\n",
       "</style>\n",
       "<table border=\"1\" class=\"dataframe\">\n",
       "  <thead>\n",
       "    <tr style=\"text-align: right;\">\n",
       "      <th></th>\n",
       "      <th>Total</th>\n",
       "      <th>%</th>\n",
       "    </tr>\n",
       "  </thead>\n",
       "  <tbody>\n",
       "    <tr>\n",
       "      <th>sepal length in cm</th>\n",
       "      <td>0</td>\n",
       "      <td>0.0</td>\n",
       "    </tr>\n",
       "    <tr>\n",
       "      <th>sepal width in cm</th>\n",
       "      <td>0</td>\n",
       "      <td>0.0</td>\n",
       "    </tr>\n",
       "    <tr>\n",
       "      <th>petal length in cm</th>\n",
       "      <td>0</td>\n",
       "      <td>0.0</td>\n",
       "    </tr>\n",
       "    <tr>\n",
       "      <th>petal width in cm</th>\n",
       "      <td>0</td>\n",
       "      <td>0.0</td>\n",
       "    </tr>\n",
       "    <tr>\n",
       "      <th>class</th>\n",
       "      <td>0</td>\n",
       "      <td>0.0</td>\n",
       "    </tr>\n",
       "  </tbody>\n",
       "</table>\n",
       "</div>"
      ],
      "text/plain": [
       "                     Total    %\n",
       "sepal length in cm       0  0.0\n",
       "sepal width in cm        0  0.0\n",
       "petal length in cm       0  0.0\n",
       "petal width in cm        0  0.0\n",
       "class                    0  0.0"
      ]
     },
     "execution_count": 89,
     "metadata": {},
     "output_type": "execute_result"
    }
   ],
   "source": [
    "total = df.isnull().sum().sort_values(ascending=False)\n",
    "\n",
    "percent_1 = df.isnull().sum()/df.isnull().count()*100\n",
    "\n",
    "percent_2 = (round(percent_1, 1)).sort_values(ascending=False)\n",
    "\n",
    "missing_data = pd.concat([total, percent_2], axis=1, keys=['Total', '%'])\n",
    "\n",
    "missing_data.head(10)"
   ]
  },
  {
   "cell_type": "markdown",
   "id": "216d538c",
   "metadata": {},
   "source": [
    "So, there is no missing data. Great!!!  \n",
    "\n",
    "All attributes are numeric. But we need to change class names to numbers.\n",
    "We did this with Counter for Titanic dataset. Let's do the same here!"
   ]
  },
  {
   "cell_type": "code",
   "execution_count": 90,
   "id": "69530d64",
   "metadata": {},
   "outputs": [
    {
     "name": "stdout",
     "output_type": "stream",
     "text": [
      "Counter({'Iris-setosa': 50, 'Iris-versicolor': 50, 'Iris-virginica': 50})\n"
     ]
    }
   ],
   "source": [
    "from collections import Counter\n",
    "c = Counter(df['class'])\n",
    "print(c)"
   ]
  },
  {
   "cell_type": "markdown",
   "id": "fcf609cc",
   "metadata": {},
   "source": [
    "Wow. The dataset is balanced perfectly.\n",
    "\n",
    "Let's get index of class names in our Counter as the numberic value of each class. Let's also reshuffle the dataset."
   ]
  },
  {
   "cell_type": "code",
   "execution_count": 92,
   "id": "bccfdcbb",
   "metadata": {},
   "outputs": [
    {
     "data": {
      "text/html": [
       "<div>\n",
       "<style scoped>\n",
       "    .dataframe tbody tr th:only-of-type {\n",
       "        vertical-align: middle;\n",
       "    }\n",
       "\n",
       "    .dataframe tbody tr th {\n",
       "        vertical-align: top;\n",
       "    }\n",
       "\n",
       "    .dataframe thead th {\n",
       "        text-align: right;\n",
       "    }\n",
       "</style>\n",
       "<table border=\"1\" class=\"dataframe\">\n",
       "  <thead>\n",
       "    <tr style=\"text-align: right;\">\n",
       "      <th></th>\n",
       "      <th>level_0</th>\n",
       "      <th>index</th>\n",
       "      <th>sepal length in cm</th>\n",
       "      <th>sepal width in cm</th>\n",
       "      <th>petal length in cm</th>\n",
       "      <th>petal width in cm</th>\n",
       "      <th>class</th>\n",
       "      <th>class_num</th>\n",
       "    </tr>\n",
       "  </thead>\n",
       "  <tbody>\n",
       "    <tr>\n",
       "      <th>0</th>\n",
       "      <td>84</td>\n",
       "      <td>77</td>\n",
       "      <td>6.7</td>\n",
       "      <td>3.0</td>\n",
       "      <td>5.0</td>\n",
       "      <td>1.7</td>\n",
       "      <td>Iris-versicolor</td>\n",
       "      <td>1</td>\n",
       "    </tr>\n",
       "    <tr>\n",
       "      <th>1</th>\n",
       "      <td>20</td>\n",
       "      <td>29</td>\n",
       "      <td>4.7</td>\n",
       "      <td>3.2</td>\n",
       "      <td>1.6</td>\n",
       "      <td>0.2</td>\n",
       "      <td>Iris-setosa</td>\n",
       "      <td>0</td>\n",
       "    </tr>\n",
       "    <tr>\n",
       "      <th>2</th>\n",
       "      <td>45</td>\n",
       "      <td>81</td>\n",
       "      <td>5.5</td>\n",
       "      <td>2.4</td>\n",
       "      <td>3.7</td>\n",
       "      <td>1.0</td>\n",
       "      <td>Iris-versicolor</td>\n",
       "      <td>1</td>\n",
       "    </tr>\n",
       "    <tr>\n",
       "      <th>3</th>\n",
       "      <td>47</td>\n",
       "      <td>137</td>\n",
       "      <td>6.4</td>\n",
       "      <td>3.1</td>\n",
       "      <td>5.5</td>\n",
       "      <td>1.8</td>\n",
       "      <td>Iris-virginica</td>\n",
       "      <td>2</td>\n",
       "    </tr>\n",
       "    <tr>\n",
       "      <th>4</th>\n",
       "      <td>149</td>\n",
       "      <td>102</td>\n",
       "      <td>7.1</td>\n",
       "      <td>3.0</td>\n",
       "      <td>5.9</td>\n",
       "      <td>2.1</td>\n",
       "      <td>Iris-virginica</td>\n",
       "      <td>2</td>\n",
       "    </tr>\n",
       "  </tbody>\n",
       "</table>\n",
       "</div>"
      ],
      "text/plain": [
       "   level_0  index  sepal length in cm  sepal width in cm  petal length in cm   \\\n",
       "0       84     77                 6.7                3.0                  5.0   \n",
       "1       20     29                 4.7                3.2                  1.6   \n",
       "2       45     81                 5.5                2.4                  3.7   \n",
       "3       47    137                 6.4                3.1                  5.5   \n",
       "4      149    102                 7.1                3.0                  5.9   \n",
       "\n",
       "   petal width in cm             class  class_num  \n",
       "0                 1.7  Iris-versicolor          1  \n",
       "1                 0.2      Iris-setosa          0  \n",
       "2                 1.0  Iris-versicolor          1  \n",
       "3                 1.8   Iris-virginica          2  \n",
       "4                 2.1   Iris-virginica          2  "
      ]
     },
     "execution_count": 92,
     "metadata": {},
     "output_type": "execute_result"
    }
   ],
   "source": [
    "df['class_num'] = df['class'].apply(lambda x: list(c.keys()).index(x))\n",
    "df = df.sample(frac=1).reset_index()\n",
    "df.head()"
   ]
  },
  {
   "cell_type": "code",
   "execution_count": 94,
   "id": "eba29eff",
   "metadata": {},
   "outputs": [
    {
     "name": "stdout",
     "output_type": "stream",
     "text": [
      "Counter({1: 50, 0: 50, 2: 50})\n"
     ]
    }
   ],
   "source": [
    "# Sanity Check\n",
    "print(Counter(df['class_num']))"
   ]
  },
  {
   "cell_type": "markdown",
   "id": "a5b8728c",
   "metadata": {},
   "source": [
    "Now, we can drop the old index and class field. We can use our Counter to revert back to class names. We will see an example of this after we trained and tested our model."
   ]
  },
  {
   "cell_type": "code",
   "execution_count": 95,
   "id": "82668c3a",
   "metadata": {},
   "outputs": [
    {
     "data": {
      "text/html": [
       "<div>\n",
       "<style scoped>\n",
       "    .dataframe tbody tr th:only-of-type {\n",
       "        vertical-align: middle;\n",
       "    }\n",
       "\n",
       "    .dataframe tbody tr th {\n",
       "        vertical-align: top;\n",
       "    }\n",
       "\n",
       "    .dataframe thead th {\n",
       "        text-align: right;\n",
       "    }\n",
       "</style>\n",
       "<table border=\"1\" class=\"dataframe\">\n",
       "  <thead>\n",
       "    <tr style=\"text-align: right;\">\n",
       "      <th></th>\n",
       "      <th>level_0</th>\n",
       "      <th>sepal length in cm</th>\n",
       "      <th>sepal width in cm</th>\n",
       "      <th>petal length in cm</th>\n",
       "      <th>petal width in cm</th>\n",
       "      <th>class_num</th>\n",
       "    </tr>\n",
       "  </thead>\n",
       "  <tbody>\n",
       "    <tr>\n",
       "      <th>0</th>\n",
       "      <td>84</td>\n",
       "      <td>6.7</td>\n",
       "      <td>3.0</td>\n",
       "      <td>5.0</td>\n",
       "      <td>1.7</td>\n",
       "      <td>1</td>\n",
       "    </tr>\n",
       "    <tr>\n",
       "      <th>1</th>\n",
       "      <td>20</td>\n",
       "      <td>4.7</td>\n",
       "      <td>3.2</td>\n",
       "      <td>1.6</td>\n",
       "      <td>0.2</td>\n",
       "      <td>0</td>\n",
       "    </tr>\n",
       "    <tr>\n",
       "      <th>2</th>\n",
       "      <td>45</td>\n",
       "      <td>5.5</td>\n",
       "      <td>2.4</td>\n",
       "      <td>3.7</td>\n",
       "      <td>1.0</td>\n",
       "      <td>1</td>\n",
       "    </tr>\n",
       "    <tr>\n",
       "      <th>3</th>\n",
       "      <td>47</td>\n",
       "      <td>6.4</td>\n",
       "      <td>3.1</td>\n",
       "      <td>5.5</td>\n",
       "      <td>1.8</td>\n",
       "      <td>2</td>\n",
       "    </tr>\n",
       "    <tr>\n",
       "      <th>4</th>\n",
       "      <td>149</td>\n",
       "      <td>7.1</td>\n",
       "      <td>3.0</td>\n",
       "      <td>5.9</td>\n",
       "      <td>2.1</td>\n",
       "      <td>2</td>\n",
       "    </tr>\n",
       "  </tbody>\n",
       "</table>\n",
       "</div>"
      ],
      "text/plain": [
       "   level_0  sepal length in cm  sepal width in cm  petal length in cm   \\\n",
       "0       84                 6.7                3.0                  5.0   \n",
       "1       20                 4.7                3.2                  1.6   \n",
       "2       45                 5.5                2.4                  3.7   \n",
       "3       47                 6.4                3.1                  5.5   \n",
       "4      149                 7.1                3.0                  5.9   \n",
       "\n",
       "   petal width in cm   class_num  \n",
       "0                 1.7          1  \n",
       "1                 0.2          0  \n",
       "2                 1.0          1  \n",
       "3                 1.8          2  \n",
       "4                 2.1          2  "
      ]
     },
     "execution_count": 95,
     "metadata": {},
     "output_type": "execute_result"
    }
   ],
   "source": [
    "df = df.drop(['index','class'],axis = 1)\n",
    "df.head()"
   ]
  },
  {
   "cell_type": "code",
   "execution_count": 96,
   "id": "dbda5a77",
   "metadata": {},
   "outputs": [],
   "source": [
    "df = df.drop(['level_0'],axis=1)"
   ]
  },
  {
   "cell_type": "code",
   "execution_count": 97,
   "id": "577a4103",
   "metadata": {},
   "outputs": [
    {
     "data": {
      "text/plain": [
       "Index(['sepal length in cm', 'sepal width in cm', 'petal length in cm ',\n",
       "       'petal width in cm ', 'class_num'],\n",
       "      dtype='object')"
      ]
     },
     "execution_count": 97,
     "metadata": {},
     "output_type": "execute_result"
    }
   ],
   "source": [
    "df.columns"
   ]
  },
  {
   "cell_type": "markdown",
   "id": "afa68311",
   "metadata": {},
   "source": [
    "### Machine Learning Starts Here!\n",
    "First, we separate input data from output."
   ]
  },
  {
   "cell_type": "code",
   "execution_count": 98,
   "id": "3dd19b4c",
   "metadata": {},
   "outputs": [
    {
     "name": "stdout",
     "output_type": "stream",
     "text": [
      "(150, 4) (150, 1)\n"
     ]
    }
   ],
   "source": [
    "df_y = df[['class_num']]\n",
    "df_x = df.drop(['class_num'],axis=1)\n",
    "print(df_x.shape,df_y.shape)"
   ]
  },
  {
   "cell_type": "markdown",
   "id": "63da3f9b",
   "metadata": {},
   "source": [
    "Second, we separate training and testing sets."
   ]
  },
  {
   "cell_type": "code",
   "execution_count": 102,
   "id": "70d180d4",
   "metadata": {},
   "outputs": [
    {
     "name": "stdout",
     "output_type": "stream",
     "text": [
      "(120, 4) (30, 4) (120, 1) (30, 1)\n"
     ]
    }
   ],
   "source": [
    "from sklearn.model_selection import train_test_split\n",
    "\n",
    "X_train, X_test, y_train, y_test = train_test_split(\n",
    "    df_x,df_y, test_size=0.2,random_state=42)\n",
    "\n",
    "print(X_train.shape,X_test.shape,y_train.shape,y_test.shape)"
   ]
  },
  {
   "cell_type": "markdown",
   "id": "69f653c6",
   "metadata": {},
   "source": [
    "Third, we train a simple decision tree"
   ]
  },
  {
   "cell_type": "code",
   "execution_count": 103,
   "id": "28eca9b2",
   "metadata": {},
   "outputs": [],
   "source": [
    "from sklearn import tree\n",
    "\n",
    "clf = tree.DecisionTreeClassifier(random_state=42)\n",
    "\n",
    "clf = clf.fit(X_train,y_train)"
   ]
  },
  {
   "cell_type": "markdown",
   "id": "32cf568c",
   "metadata": {},
   "source": [
    "Forth, we evaluate the tree"
   ]
  },
  {
   "cell_type": "code",
   "execution_count": 104,
   "id": "ca8b88ba",
   "metadata": {},
   "outputs": [
    {
     "name": "stdout",
     "output_type": "stream",
     "text": [
      "Train Accuracy: 100.0\n",
      "Accuracy: 100.0\n",
      "Confusion Matrix:\n",
      "[[10  0  0]\n",
      " [ 0  9  0]\n",
      " [ 0  0 11]]\n"
     ]
    }
   ],
   "source": [
    "from sklearn.metrics import accuracy_score,confusion_matrix\n",
    "\n",
    "y_train_pred = clf.predict(X_train)\n",
    "train_acc = accuracy_score(y_train,y_train_pred)\n",
    "print('Train Accuracy:',round(train_acc * 100,2))\n",
    "\n",
    "y_pred = clf.predict(X_test)\n",
    "acc = accuracy_score(y_test,y_pred)\n",
    "cm = confusion_matrix(y_test,y_pred)\n",
    "\n",
    "print('Accuracy:',round(acc*100,2))\n",
    "print('Confusion Matrix:')\n",
    "print(cm)"
   ]
  },
  {
   "cell_type": "markdown",
   "id": "d143b139",
   "metadata": {},
   "source": [
    "Simple sanity check shows how good our model is."
   ]
  },
  {
   "cell_type": "code",
   "execution_count": 105,
   "id": "328a7b47",
   "metadata": {},
   "outputs": [
    {
     "name": "stdout",
     "output_type": "stream",
     "text": [
      "Counter({2: 11, 0: 10, 1: 9})\n"
     ]
    }
   ],
   "source": [
    "print(Counter(y_test['class_num']))"
   ]
  },
  {
   "cell_type": "markdown",
   "id": "e0199561",
   "metadata": {},
   "source": [
    "The trained tree can be ploted as usual."
   ]
  },
  {
   "cell_type": "code",
   "execution_count": 106,
   "id": "7bc9d4c7",
   "metadata": {},
   "outputs": [
    {
     "data": {
      "image/png": "[encoded data removed]",
      "text/plain": [
       "<Figure size 1080x864 with 1 Axes>"
      ]
     },
     "metadata": {
      "needs_background": "light"
     },
     "output_type": "display_data"
    }
   ],
   "source": [
    "import matplotlib.pyplot as plt\n",
    "plt.figure(figsize=(15,12))  # set plot size (denoted in inches)\n",
    "tree.plot_tree(clf, fontsize=10,feature_names = list(df.columns[:-1]))\n",
    "plt.show()"
   ]
  },
  {
   "cell_type": "markdown",
   "id": "11bff8e5",
   "metadata": {},
   "source": [
    "#### Can we get the rules from the tree?  \n",
    "Let's print the tree and see."
   ]
  },
  {
   "cell_type": "code",
   "execution_count": 107,
   "id": "367ce0b9",
   "metadata": {},
   "outputs": [
    {
     "name": "stdout",
     "output_type": "stream",
     "text": [
      "def tree(sepal length in cm, sepal width in cm, petal length in cm , petal width in cm ):\n",
      "    if petal length in cm  <= 2.6:\n",
      "        return [[40.  0.  0.]]\n",
      "    else:  # if petal length in cm  > 2.6\n",
      "        if petal width in cm  <= 1.75:\n",
      "            if petal length in cm  <= 4.95:\n",
      "                if petal width in cm  <= 1.65:\n",
      "                    return [[ 0. 38.  0.]]\n",
      "                else:  # if petal width in cm  > 1.65\n",
      "                    return [[0. 0. 1.]]\n",
      "            else:  # if petal length in cm  > 4.95\n",
      "                if petal width in cm  <= 1.55:\n",
      "                    return [[0. 0. 2.]]\n",
      "                else:  # if petal width in cm  > 1.55\n",
      "                    if petal length in cm  <= 5.45:\n",
      "                        return [[0. 2. 0.]]\n",
      "                    else:  # if petal length in cm  > 5.45\n",
      "                        return [[0. 0. 1.]]\n",
      "        else:  # if petal width in cm  > 1.75\n",
      "            if petal length in cm  <= 4.85:\n",
      "                if sepal length in cm <= 5.95:\n",
      "                    return [[0. 1. 0.]]\n",
      "                else:  # if sepal length in cm > 5.95\n",
      "                    return [[0. 0. 2.]]\n",
      "            else:  # if petal length in cm  > 4.85\n",
      "                return [[ 0.  0. 33.]]\n"
     ]
    }
   ],
   "source": [
    "# From stackoverflow\n",
    "from sklearn.tree import _tree\n",
    "\n",
    "def tree_to_code(tree, feature_names):\n",
    "    tree_ = tree.tree_\n",
    "    feature_name = [\n",
    "        feature_names[i] if i != _tree.TREE_UNDEFINED else \"undefined!\"\n",
    "        for i in tree_.feature\n",
    "    ]\n",
    "    print(\"def tree({}):\".format(\", \".join(feature_names)))\n",
    "\n",
    "    def recurse(node, depth):\n",
    "        indent = \"  \" * depth\n",
    "        if tree_.feature[node] != _tree.TREE_UNDEFINED:\n",
    "            name = feature_name[node]\n",
    "            threshold = tree_.threshold[node]\n",
    "            print(\"{}if {} <= {}:\".format(indent, name, round(threshold,4)))\n",
    "            recurse(tree_.children_left[node], depth + 2)\n",
    "            print(\"{}else:  # if {} > {}\".format(indent, name, round(threshold,4)))\n",
    "            recurse(tree_.children_right[node], depth + 2)\n",
    "        else:\n",
    "            print(\"{}return {}\".format(indent, tree_.value[node]))\n",
    "\n",
    "    recurse(0, 2)\n",
    "    \n",
    "tree_to_code(clf,list(df.columns[:-1]))"
   ]
  },
  {
   "cell_type": "markdown",
   "id": "9e969754",
   "metadata": {},
   "source": [
    "### Prediction Function\n",
    "Now, we are ready to create a predictor function that gives predictions."
   ]
  },
  {
   "cell_type": "code",
   "execution_count": 109,
   "id": "6aeec88a",
   "metadata": {},
   "outputs": [
    {
     "name": "stdout",
     "output_type": "stream",
     "text": [
      "Iris-virginica\n"
     ]
    }
   ],
   "source": [
    "def predict(clf,x):\n",
    "    return list(c.keys())[clf.predict(x)[0]]\n",
    "\n",
    "print(predict(clf,[list(df_x.iloc[10])]))"
   ]
  },
  {
   "cell_type": "markdown",
   "id": "825fc62c",
   "metadata": {},
   "source": [
    "### Linear separability\n",
    "It seems two of the features are really important: petal length and petal width. Lets plot them together."
   ]
  },
  {
   "cell_type": "code",
   "execution_count": 110,
   "id": "51f9b262",
   "metadata": {},
   "outputs": [
    {
     "data": {
      "text/html": [
       "<div>\n",
       "<style scoped>\n",
       "    .dataframe tbody tr th:only-of-type {\n",
       "        vertical-align: middle;\n",
       "    }\n",
       "\n",
       "    .dataframe tbody tr th {\n",
       "        vertical-align: top;\n",
       "    }\n",
       "\n",
       "    .dataframe thead th {\n",
       "        text-align: right;\n",
       "    }\n",
       "</style>\n",
       "<table border=\"1\" class=\"dataframe\">\n",
       "  <thead>\n",
       "    <tr style=\"text-align: right;\">\n",
       "      <th></th>\n",
       "      <th>length</th>\n",
       "      <th>width</th>\n",
       "      <th>class</th>\n",
       "    </tr>\n",
       "  </thead>\n",
       "  <tbody>\n",
       "    <tr>\n",
       "      <th>0</th>\n",
       "      <td>5.0</td>\n",
       "      <td>1.7</td>\n",
       "      <td>1</td>\n",
       "    </tr>\n",
       "    <tr>\n",
       "      <th>1</th>\n",
       "      <td>1.6</td>\n",
       "      <td>0.2</td>\n",
       "      <td>0</td>\n",
       "    </tr>\n",
       "    <tr>\n",
       "      <th>2</th>\n",
       "      <td>3.7</td>\n",
       "      <td>1.0</td>\n",
       "      <td>1</td>\n",
       "    </tr>\n",
       "    <tr>\n",
       "      <th>3</th>\n",
       "      <td>5.5</td>\n",
       "      <td>1.8</td>\n",
       "      <td>2</td>\n",
       "    </tr>\n",
       "    <tr>\n",
       "      <th>4</th>\n",
       "      <td>5.9</td>\n",
       "      <td>2.1</td>\n",
       "      <td>2</td>\n",
       "    </tr>\n",
       "  </tbody>\n",
       "</table>\n",
       "</div>"
      ],
      "text/plain": [
       "   length  width  class\n",
       "0     5.0    1.7      1\n",
       "1     1.6    0.2      0\n",
       "2     3.7    1.0      1\n",
       "3     5.5    1.8      2\n",
       "4     5.9    2.1      2"
      ]
     },
     "execution_count": 110,
     "metadata": {},
     "output_type": "execute_result"
    }
   ],
   "source": [
    "part_df = df[['petal length in cm ','petal width in cm ','class_num']]\n",
    "part_df.columns = ['length','width','class']\n",
    "part_df.head()"
   ]
  },
  {
   "cell_type": "code",
   "execution_count": 111,
   "id": "0df64d27",
   "metadata": {},
   "outputs": [
    {
     "data": {
      "image/png": "[encoded data removed]",
      "text/plain": [
       "<Figure size 1080x864 with 1 Axes>"
      ]
     },
     "metadata": {
      "needs_background": "light"
     },
     "output_type": "display_data"
    }
   ],
   "source": [
    "#'Iris-setosa': 50, 'Iris-versicolor': 50, 'Iris-virginica': 50\n",
    "df0 = part_df[part_df['class'] == 0]\n",
    "df1 = part_df[part_df['class'] == 1]\n",
    "df2 = part_df[part_df['class'] == 2]\n",
    "\n",
    "plt.figure(figsize=(15,12))\n",
    "plt.scatter(df0['length'], df0['width'], c='red')\n",
    "plt.scatter(df1['length'], df1['width'], c='blue')\n",
    "plt.scatter(df2['length'], df2['width'], c='green')\n",
    "plt.title('Iris data with two selected features')\n",
    "plt.xlabel('length')\n",
    "plt.ylabel('width')\n",
    "#plt.savefig('ScatterPlot_05.png')\n",
    "plt.show()"
   ]
  },
  {
   "cell_type": "code",
   "execution_count": null,
   "id": "7c01751f",
   "metadata": {},
   "outputs": [],
   "source": []
  }
 ],
 "metadata": {
  "kernelspec": {
   "display_name": "Python 3",
   "language": "python",
   "name": "python3"
  },
  "language_info": {
   "codemirror_mode": {
    "name": "ipython",
    "version": 3
   },
   "file_extension": ".py",
   "mimetype": "text/x-python",
   "name": "python",
   "nbconvert_exporter": "python",
   "pygments_lexer": "ipython3",
   "version": "3.8.8"
  }
 },
 "nbformat": 4,
 "nbformat_minor": 5
}
