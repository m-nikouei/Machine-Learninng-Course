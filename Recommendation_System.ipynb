{
 "cells": [
  {
   "cell_type": "markdown",
   "id": "16b465f8",
   "metadata": {},
   "source": [
    "## Movie Recommendation System \n",
    "In this notebook, we create a recommendation system for movies, based on user ratings. \n",
    "\n",
    "### Data\n",
    "To build the system, we use [MovieLens](https://movielens.org/) dataset of 100k ratings from [https://grouplens.org/datasets/movielens/](https://grouplens.org/datasets/movielens/). Specifically, we use three csv file from this dataset:\n",
    "* u.user: user information file. Features: 'user_id', 'age', 'sex', 'occupation', 'zip_code'\n",
    "* u.item: movie information file. Features: 'movie_id','movie_title','release_date','video_release_date','IMDb URL',list of genre\n",
    "* u.data: rating information file. Features: user_id', 'movie_id', 'rating', 'unix_timestamp'\n",
    "\n",
    "### Methodology\n",
    "We build two candidate generator models in this notebook: Matrix Factorization and Softmax model. This notebook is built based on a Google Colab notebook found [here](https://colab.research.google.com/drive/1WN1OGnwFmcbxnmM-bNiEm87tv0umEjIc#scrollTo=G_Kko-YxF6YE). \n",
    "#### Matirx Factorization:  \n",
    "Unlike the Colab notebook, here we use a scikit learn SVD model to do matrix factorization. When an opensource implemetation of an algorithm exists, it is better to use that instead of creating the algorithm ourselves. \n",
    "\n",
    "#### Softmax Model:"
   ]
  },
  {
   "cell_type": "markdown",
   "id": "3b9ee91f",
   "metadata": {},
   "source": [
    "#### Reading Data\n",
    "In this section, we simply read three csv files: u.user, u.item and u.data. The first two files are | separated and u.data is tab separated. We will use user_id and movie_id fields as indecies into users and movies tables. Since these strat from 1 instead of zero, we change them to start from 0 by reduding each id by 1."
   ]
  },
  {
   "cell_type": "code",
   "execution_count": 44,
   "id": "d2f592bb",
   "metadata": {},
   "outputs": [
    {
     "name": "stdout",
     "output_type": "stream",
     "text": [
      "(943, 5) (1682, 25) (100000, 4)\n"
     ]
    }
   ],
   "source": [
    "import pandas as pd\n",
    "import numpy as np\n",
    "users_cols = ['user_id', 'age', 'sex', 'occupation', 'zip_code']\n",
    "users = pd.read_csv(\n",
    "    'ml-100k/u.user', sep='|', names=users_cols, encoding='latin-1')\n",
    "\n",
    "movie_cols = ['movie_id','movie_title','release_date','video_release_date',\n",
    "             'IMDb URL','unknown','Action','Adventure','Animation',\n",
    "             'Children\\'s','Comedy','Crime','Documentary','Drama','Fantasy',\n",
    "             'Film-Noir','Horror','Musical','Mystery','Romance','Sci-Fi',\n",
    "             'Thriller','War','Western']\n",
    "movies = pd.read_csv(\n",
    "    'ml-100k/u.item', sep='|', names=movie_cols, encoding='latin-1')\n",
    "\n",
    "ratings_cols = ['user_id', 'movie_id', 'rating', 'unix_timestamp']\n",
    "ratings = pd.read_csv(\n",
    "    'ml-100k/u.data', sep='\\t', names=ratings_cols, encoding='latin-1')\n",
    "\n",
    "\n",
    "users[\"user_id\"] = users[\"user_id\"].apply(lambda x: str(x-1))\n",
    "movies[\"movie_id\"] = movies[\"movie_id\"].apply(lambda x: str(x-1))\n",
    "ratings[\"movie_id\"] = ratings[\"movie_id\"].apply(lambda x: str(x-1))\n",
    "movies[\"year\"] = movies['release_date'].apply(lambda x: str(x).split('-')[-1])\n",
    "ratings[\"user_id\"] = ratings[\"user_id\"].apply(lambda x: str(x-1))\n",
    "ratings[\"rating\"] = ratings[\"rating\"].apply(lambda x: float(x))\n",
    "\n",
    "print(users.shape,movies.shape,ratings.shape)"
   ]
  },
  {
   "cell_type": "markdown",
   "id": "d1702ba9",
   "metadata": {},
   "source": [
    "#### Sparse Matrix\n",
    "We use scipy sparse matrix library to create a sparse matrix of user-ratings. The sparse matrix is defined by its shape and its non-zero elements. Here, we have 943 users and 1682 items. So, our feedback matrix is a 943 * 1682 matrix. To specify a non-zero element, we need its position (row,col) and its value (data). To create the sparse matrix, we create 3 arrays: array of row indecies, array of column indecies and array of values. These 3 arrays together with the shape information can be passed to csr_matrix function to create a scipy sparse matrix, as follows."
   ]
  },
  {
   "cell_type": "code",
   "execution_count": 47,
   "id": "1a828b9c",
   "metadata": {
    "scrolled": true
   },
   "outputs": [
    {
     "name": "stdout",
     "output_type": "stream",
     "text": [
      "[[5. 3. 4. ... 0. 0. 0.]\n",
      " [4. 0. 0. ... 0. 0. 0.]\n",
      " [0. 0. 0. ... 0. 0. 0.]\n",
      " ...\n",
      " [5. 0. 0. ... 0. 0. 0.]\n",
      " [0. 0. 0. ... 0. 0. 0.]\n",
      " [0. 5. 0. ... 0. 0. 0.]]\n"
     ]
    }
   ],
   "source": [
    "from scipy.sparse import csr_matrix\n",
    "\n",
    "row_inds = ratings['user_id'].values\n",
    "col_inds = ratings['movie_id'].values\n",
    "data = ratings['rating'].values\n",
    "\n",
    "A = csr_matrix((data,(row_inds,col_inds)),shape=(943,1682))\n",
    "print(A.toarray())"
   ]
  },
  {
   "cell_type": "markdown",
   "id": "ef4fc77d",
   "metadata": {},
   "source": [
    "#### Matrix Factorization via SVD\n",
    "Simply import TruncatedSVD, indicate the number of componenets you need to have in the output (d) and fit the model on the feedback matrix. That's it."
   ]
  },
  {
   "cell_type": "code",
   "execution_count": 48,
   "id": "493a99d8",
   "metadata": {},
   "outputs": [
    {
     "data": {
      "text/plain": [
       "TruncatedSVD(n_components=30, n_iter=7, random_state=42)"
      ]
     },
     "execution_count": 48,
     "metadata": {},
     "output_type": "execute_result"
    }
   ],
   "source": [
    "from sklearn.decomposition import TruncatedSVD\n",
    "\n",
    "svd = TruncatedSVD(n_components=30, n_iter=7, random_state=42)\n",
    "svd.fit(A)"
   ]
  },
  {
   "cell_type": "markdown",
   "id": "ea1b5aa4",
   "metadata": {},
   "source": [
    "#### User Matrix\n",
    "A = U * D * V^T where U * U^T = I and V * V^T = I.  \n",
    "So, A * V = U * D * V^T * V = U * D, which we consider as U.  \n",
    "Note that svd.transform(X) = X * V"
   ]
  },
  {
   "cell_type": "code",
   "execution_count": 49,
   "id": "480353cd",
   "metadata": {},
   "outputs": [
    {
     "name": "stdout",
     "output_type": "stream",
     "text": [
      "(943, 30)\n"
     ]
    }
   ],
   "source": [
    "U = svd.transform(A)\n",
    "print(U.shape)"
   ]
  },
  {
   "cell_type": "markdown",
   "id": "b82c0bfd",
   "metadata": {},
   "source": [
    "#### Item Matrix\n",
    "V = I * V"
   ]
  },
  {
   "cell_type": "code",
   "execution_count": 5,
   "id": "cc1d2d88",
   "metadata": {},
   "outputs": [
    {
     "name": "stdout",
     "output_type": "stream",
     "text": [
      "[[1 0 0 ... 0 0 0]\n",
      " [0 1 0 ... 0 0 0]\n",
      " [0 0 1 ... 0 0 0]\n",
      " ...\n",
      " [0 0 0 ... 1 0 0]\n",
      " [0 0 0 ... 0 1 0]\n",
      " [0 0 0 ... 0 0 1]]\n"
     ]
    }
   ],
   "source": [
    "id_rows = [i for i in range(1682)]\n",
    "id_cols = [i for i in range(1682)]\n",
    "id_data = [1 for i in range(1682)]\n",
    "I = csr_matrix((id_data,(id_rows,id_cols)),shape=(1682,1682))\n",
    "print(I.toarray())"
   ]
  },
  {
   "cell_type": "code",
   "execution_count": 50,
   "id": "9c3054e7",
   "metadata": {},
   "outputs": [
    {
     "name": "stdout",
     "output_type": "stream",
     "text": [
      "(1682, 30)\n"
     ]
    }
   ],
   "source": [
    "V = svd.transform(I)\n",
    "print(V.shape)"
   ]
  },
  {
   "cell_type": "markdown",
   "id": "4d8703bf",
   "metadata": {},
   "source": [
    "#### Similarity Calculator Function\n",
    "Strait from the Colab notebook"
   ]
  },
  {
   "cell_type": "code",
   "execution_count": 51,
   "id": "763bd584",
   "metadata": {},
   "outputs": [],
   "source": [
    "DOT = 'dot'\n",
    "COSINE = 'cosine'\n",
    "\n",
    "def compute_scores(query_embedding, item_embeddings, measure=DOT):\n",
    "    \"\"\"Computes the scores of the candidates given a query.\n",
    "    Args:\n",
    "    query_embedding: a vector of shape [k], representing the query embedding.\n",
    "    item_embeddings: a matrix of shape [N, k], such that row i is the embedding\n",
    "      of item i.\n",
    "    measure: a string specifying the similarity measure to be used. Can be\n",
    "      either DOT or COSINE.\n",
    "    Returns:\n",
    "    scores: a vector of shape [N], such that scores[i] is the score of item i.\n",
    "    \"\"\"\n",
    "    u = query_embedding\n",
    "    V = item_embeddings\n",
    "    if measure == COSINE:\n",
    "        V = V / np.linalg.norm(V, axis=1, keepdims=True)\n",
    "        u = u / np.linalg.norm(u)\n",
    "    scores = u.dot(V.T)\n",
    "    return scores"
   ]
  },
  {
   "cell_type": "markdown",
   "id": "fadd696f",
   "metadata": {},
   "source": [
    "#### Recommendation Calculator"
   ]
  },
  {
   "cell_type": "code",
   "execution_count": 52,
   "id": "3d8b4f69",
   "metadata": {},
   "outputs": [],
   "source": [
    "def get_recomms(u_emb,m_embs,movies=movies,measure=COSINE,k=5):\n",
    "    scores = compute_scores(u_emb,m_embs,measure=measure)\n",
    "    u_movies = movies.copy()\n",
    "    u_movies['score'] = [round(x,4) for x in scores]\n",
    "    return u_movies.sort_values(['score'], \n",
    "            ascending=False)[['movie_id','movie_title','score']].iloc[:k,:]"
   ]
  },
  {
   "cell_type": "code",
   "execution_count": 53,
   "id": "0b52e6f9",
   "metadata": {},
   "outputs": [
    {
     "data": {
      "text/html": [
       "<div>\n",
       "<style scoped>\n",
       "    .dataframe tbody tr th:only-of-type {\n",
       "        vertical-align: middle;\n",
       "    }\n",
       "\n",
       "    .dataframe tbody tr th {\n",
       "        vertical-align: top;\n",
       "    }\n",
       "\n",
       "    .dataframe thead th {\n",
       "        text-align: right;\n",
       "    }\n",
       "</style>\n",
       "<table border=\"1\" class=\"dataframe\">\n",
       "  <thead>\n",
       "    <tr style=\"text-align: right;\">\n",
       "      <th></th>\n",
       "      <th>movie_id</th>\n",
       "      <th>movie_title</th>\n",
       "      <th>score</th>\n",
       "    </tr>\n",
       "  </thead>\n",
       "  <tbody>\n",
       "    <tr>\n",
       "      <th>477</th>\n",
       "      <td>477</td>\n",
       "      <td>Philadelphia Story, The (1940)</td>\n",
       "      <td>0.4871</td>\n",
       "    </tr>\n",
       "    <tr>\n",
       "      <th>605</th>\n",
       "      <td>605</td>\n",
       "      <td>All About Eve (1950)</td>\n",
       "      <td>0.4730</td>\n",
       "    </tr>\n",
       "    <tr>\n",
       "      <th>601</th>\n",
       "      <td>601</td>\n",
       "      <td>American in Paris, An (1951)</td>\n",
       "      <td>0.4684</td>\n",
       "    </tr>\n",
       "    <tr>\n",
       "      <th>498</th>\n",
       "      <td>498</td>\n",
       "      <td>Cat on a Hot Tin Roof (1958)</td>\n",
       "      <td>0.4379</td>\n",
       "    </tr>\n",
       "    <tr>\n",
       "      <th>487</th>\n",
       "      <td>487</td>\n",
       "      <td>Sunset Blvd. (1950)</td>\n",
       "      <td>0.4334</td>\n",
       "    </tr>\n",
       "  </tbody>\n",
       "</table>\n",
       "</div>"
      ],
      "text/plain": [
       "    movie_id                     movie_title   score\n",
       "477      477  Philadelphia Story, The (1940)  0.4871\n",
       "605      605            All About Eve (1950)  0.4730\n",
       "601      601    American in Paris, An (1951)  0.4684\n",
       "498      498    Cat on a Hot Tin Roof (1958)  0.4379\n",
       "487      487             Sunset Blvd. (1950)  0.4334"
      ]
     },
     "execution_count": 53,
     "metadata": {},
     "output_type": "execute_result"
    }
   ],
   "source": [
    "get_recomms(U[150],V)"
   ]
  },
  {
   "cell_type": "code",
   "execution_count": 54,
   "id": "7c714207",
   "metadata": {},
   "outputs": [
    {
     "data": {
      "text/html": [
       "<div>\n",
       "<style scoped>\n",
       "    .dataframe tbody tr th:only-of-type {\n",
       "        vertical-align: middle;\n",
       "    }\n",
       "\n",
       "    .dataframe tbody tr th {\n",
       "        vertical-align: top;\n",
       "    }\n",
       "\n",
       "    .dataframe thead th {\n",
       "        text-align: right;\n",
       "    }\n",
       "</style>\n",
       "<table border=\"1\" class=\"dataframe\">\n",
       "  <thead>\n",
       "    <tr style=\"text-align: right;\">\n",
       "      <th></th>\n",
       "      <th>movie_id</th>\n",
       "      <th>movie_title</th>\n",
       "      <th>score</th>\n",
       "    </tr>\n",
       "  </thead>\n",
       "  <tbody>\n",
       "    <tr>\n",
       "      <th>180</th>\n",
       "      <td>180</td>\n",
       "      <td>Return of the Jedi (1983)</td>\n",
       "      <td>0.6600</td>\n",
       "    </tr>\n",
       "    <tr>\n",
       "      <th>49</th>\n",
       "      <td>49</td>\n",
       "      <td>Star Wars (1977)</td>\n",
       "      <td>0.6482</td>\n",
       "    </tr>\n",
       "    <tr>\n",
       "      <th>254</th>\n",
       "      <td>254</td>\n",
       "      <td>My Best Friend's Wedding (1997)</td>\n",
       "      <td>0.6148</td>\n",
       "    </tr>\n",
       "    <tr>\n",
       "      <th>65</th>\n",
       "      <td>65</td>\n",
       "      <td>While You Were Sleeping (1995)</td>\n",
       "      <td>0.5246</td>\n",
       "    </tr>\n",
       "    <tr>\n",
       "      <th>1471</th>\n",
       "      <td>1471</td>\n",
       "      <td>Visitors, The (Visiteurs, Les) (1993)</td>\n",
       "      <td>0.4823</td>\n",
       "    </tr>\n",
       "  </tbody>\n",
       "</table>\n",
       "</div>"
      ],
      "text/plain": [
       "     movie_id                            movie_title   score\n",
       "180       180              Return of the Jedi (1983)  0.6600\n",
       "49         49                       Star Wars (1977)  0.6482\n",
       "254       254        My Best Friend's Wedding (1997)  0.6148\n",
       "65         65         While You Were Sleeping (1995)  0.5246\n",
       "1471     1471  Visitors, The (Visiteurs, Les) (1993)  0.4823"
      ]
     },
     "execution_count": 54,
     "metadata": {},
     "output_type": "execute_result"
    }
   ],
   "source": [
    "get_recomms(U[562],V)"
   ]
  },
  {
   "cell_type": "code",
   "execution_count": 55,
   "id": "a638cc72",
   "metadata": {},
   "outputs": [
    {
     "data": {
      "text/html": [
       "<div>\n",
       "<style scoped>\n",
       "    .dataframe tbody tr th:only-of-type {\n",
       "        vertical-align: middle;\n",
       "    }\n",
       "\n",
       "    .dataframe tbody tr th {\n",
       "        vertical-align: top;\n",
       "    }\n",
       "\n",
       "    .dataframe thead th {\n",
       "        text-align: right;\n",
       "    }\n",
       "</style>\n",
       "<table border=\"1\" class=\"dataframe\">\n",
       "  <thead>\n",
       "    <tr style=\"text-align: right;\">\n",
       "      <th></th>\n",
       "      <th>movie_id</th>\n",
       "      <th>movie_title</th>\n",
       "      <th>score</th>\n",
       "    </tr>\n",
       "  </thead>\n",
       "  <tbody>\n",
       "    <tr>\n",
       "      <th>154</th>\n",
       "      <td>154</td>\n",
       "      <td>Dirty Dancing (1987)</td>\n",
       "      <td>0.6004</td>\n",
       "    </tr>\n",
       "    <tr>\n",
       "      <th>691</th>\n",
       "      <td>691</td>\n",
       "      <td>American President, The (1995)</td>\n",
       "      <td>0.5991</td>\n",
       "    </tr>\n",
       "    <tr>\n",
       "      <th>65</th>\n",
       "      <td>65</td>\n",
       "      <td>While You Were Sleeping (1995)</td>\n",
       "      <td>0.5856</td>\n",
       "    </tr>\n",
       "    <tr>\n",
       "      <th>738</th>\n",
       "      <td>738</td>\n",
       "      <td>Pretty Woman (1990)</td>\n",
       "      <td>0.5575</td>\n",
       "    </tr>\n",
       "    <tr>\n",
       "      <th>110</th>\n",
       "      <td>110</td>\n",
       "      <td>Truth About Cats &amp; Dogs, The (1996)</td>\n",
       "      <td>0.5450</td>\n",
       "    </tr>\n",
       "  </tbody>\n",
       "</table>\n",
       "</div>"
      ],
      "text/plain": [
       "    movie_id                          movie_title   score\n",
       "154      154                 Dirty Dancing (1987)  0.6004\n",
       "691      691       American President, The (1995)  0.5991\n",
       "65        65       While You Were Sleeping (1995)  0.5856\n",
       "738      738                  Pretty Woman (1990)  0.5575\n",
       "110      110  Truth About Cats & Dogs, The (1996)  0.5450"
      ]
     },
     "execution_count": 55,
     "metadata": {},
     "output_type": "execute_result"
    }
   ],
   "source": [
    "get_recomms(U[151],V)"
   ]
  },
  {
   "cell_type": "markdown",
   "id": "d91ee6f9",
   "metadata": {},
   "source": [
    "#### Softmax Model\n",
    "The softmax model gets as input a vector of ratings of a user and outputs the probability of a user rating a movie.\n",
    "\n",
    "To get the movies that a user rated, we groupby the rating table by user_id."
   ]
  },
  {
   "cell_type": "code",
   "execution_count": 56,
   "id": "db0c071b",
   "metadata": {},
   "outputs": [
    {
     "data": {
      "text/html": [
       "<div>\n",
       "<style scoped>\n",
       "    .dataframe tbody tr th:only-of-type {\n",
       "        vertical-align: middle;\n",
       "    }\n",
       "\n",
       "    .dataframe tbody tr th {\n",
       "        vertical-align: top;\n",
       "    }\n",
       "\n",
       "    .dataframe thead th {\n",
       "        text-align: right;\n",
       "    }\n",
       "</style>\n",
       "<table border=\"1\" class=\"dataframe\">\n",
       "  <thead>\n",
       "    <tr style=\"text-align: right;\">\n",
       "      <th></th>\n",
       "      <th>user_id</th>\n",
       "      <th>movie_id</th>\n",
       "    </tr>\n",
       "  </thead>\n",
       "  <tbody>\n",
       "    <tr>\n",
       "      <th>0</th>\n",
       "      <td>0</td>\n",
       "      <td>[60, 188, 32, 159, 19, 201, 170, 264, 154, 116...</td>\n",
       "    </tr>\n",
       "    <tr>\n",
       "      <th>1</th>\n",
       "      <td>1</td>\n",
       "      <td>[291, 250, 49, 313, 296, 289, 311, 280, 12, 27...</td>\n",
       "    </tr>\n",
       "    <tr>\n",
       "      <th>2</th>\n",
       "      <td>10</td>\n",
       "      <td>[110, 557, 731, 226, 424, 739, 722, 37, 724, 1...</td>\n",
       "    </tr>\n",
       "    <tr>\n",
       "      <th>3</th>\n",
       "      <td>100</td>\n",
       "      <td>[828, 303, 595, 221, 470, 404, 280, 251, 281, ...</td>\n",
       "    </tr>\n",
       "    <tr>\n",
       "      <th>4</th>\n",
       "      <td>101</td>\n",
       "      <td>[767, 822, 69, 514, 523, 321, 624, 160, 447, 4...</td>\n",
       "    </tr>\n",
       "  </tbody>\n",
       "</table>\n",
       "</div>"
      ],
      "text/plain": [
       "  user_id                                           movie_id\n",
       "0       0  [60, 188, 32, 159, 19, 201, 170, 264, 154, 116...\n",
       "1       1  [291, 250, 49, 313, 296, 289, 311, 280, 12, 27...\n",
       "2      10  [110, 557, 731, 226, 424, 739, 722, 37, 724, 1...\n",
       "3     100  [828, 303, 595, 221, 470, 404, 280, 251, 281, ...\n",
       "4     101  [767, 822, 69, 514, 523, 321, 624, 160, 447, 4..."
      ]
     },
     "execution_count": 56,
     "metadata": {},
     "output_type": "execute_result"
    }
   ],
   "source": [
    "rated_movies = ratings[[\"user_id\", \"movie_id\"]] \\\n",
    "                .groupby(\"user_id\", as_index=False) \\\n",
    "                .aggregate(lambda x: list(x))\n",
    "rated_movies.head()"
   ]
  },
  {
   "cell_type": "markdown",
   "id": "71f7c15f",
   "metadata": {},
   "source": [
    "#### Combining Genre"
   ]
  },
  {
   "cell_type": "code",
   "execution_count": 57,
   "id": "c18514ec",
   "metadata": {},
   "outputs": [],
   "source": [
    "genre_cols = [\n",
    "    \"unknown\", \"Action\", \"Adventure\", \"Animation\", \"Children\\'s\", \"Comedy\",\n",
    "    \"Crime\", \"Documentary\", \"Drama\", \"Fantasy\", \"Film-Noir\", \"Horror\",\n",
    "    \"Musical\", \"Mystery\", \"Romance\", \"Sci-Fi\", \"Thriller\", \"War\", \"Western\"\n",
    "]\n",
    "\n",
    "def mark_genres(movies, genres):\n",
    "    def get_random_genre(gs):\n",
    "        active = [genre for genre, g in zip(genres, gs) if g==1]\n",
    "        if len(active) == 0:\n",
    "            return 'Other'\n",
    "        return np.random.choice(active)\n",
    "    def get_all_genres(gs):\n",
    "        active = [genre for genre, g in zip(genres, gs) if g==1]\n",
    "        if len(active) == 0:\n",
    "            return 'Other'\n",
    "        return '-'.join(active)\n",
    "    movies['genre'] = [\n",
    "        get_random_genre(gs) for gs in zip(*[movies[genre] for genre in genres])]\n",
    "    movies['all_genres'] = [\n",
    "        get_all_genres(gs) for gs in zip(*[movies[genre] for genre in genres])]\n",
    "    movies.drop(genre_cols,axis=1,inplace=True)\n",
    "\n",
    "mark_genres(movies, genre_cols)"
   ]
  },
  {
   "cell_type": "code",
   "execution_count": 58,
   "id": "b2bc4d52",
   "metadata": {},
   "outputs": [
    {
     "data": {
      "text/html": [
       "<div>\n",
       "<style scoped>\n",
       "    .dataframe tbody tr th:only-of-type {\n",
       "        vertical-align: middle;\n",
       "    }\n",
       "\n",
       "    .dataframe tbody tr th {\n",
       "        vertical-align: top;\n",
       "    }\n",
       "\n",
       "    .dataframe thead th {\n",
       "        text-align: right;\n",
       "    }\n",
       "</style>\n",
       "<table border=\"1\" class=\"dataframe\">\n",
       "  <thead>\n",
       "    <tr style=\"text-align: right;\">\n",
       "      <th></th>\n",
       "      <th>movie_id</th>\n",
       "      <th>movie_title</th>\n",
       "      <th>release_date</th>\n",
       "      <th>video_release_date</th>\n",
       "      <th>IMDb URL</th>\n",
       "      <th>year</th>\n",
       "      <th>genre</th>\n",
       "      <th>all_genres</th>\n",
       "    </tr>\n",
       "  </thead>\n",
       "  <tbody>\n",
       "    <tr>\n",
       "      <th>0</th>\n",
       "      <td>0</td>\n",
       "      <td>Toy Story (1995)</td>\n",
       "      <td>01-Jan-1995</td>\n",
       "      <td>NaN</td>\n",
       "      <td>http://us.imdb.com/M/title-exact?Toy%20Story%2...</td>\n",
       "      <td>1995</td>\n",
       "      <td>Children's</td>\n",
       "      <td>Animation-Children's-Comedy</td>\n",
       "    </tr>\n",
       "    <tr>\n",
       "      <th>1</th>\n",
       "      <td>1</td>\n",
       "      <td>GoldenEye (1995)</td>\n",
       "      <td>01-Jan-1995</td>\n",
       "      <td>NaN</td>\n",
       "      <td>http://us.imdb.com/M/title-exact?GoldenEye%20(...</td>\n",
       "      <td>1995</td>\n",
       "      <td>Adventure</td>\n",
       "      <td>Action-Adventure-Thriller</td>\n",
       "    </tr>\n",
       "    <tr>\n",
       "      <th>2</th>\n",
       "      <td>2</td>\n",
       "      <td>Four Rooms (1995)</td>\n",
       "      <td>01-Jan-1995</td>\n",
       "      <td>NaN</td>\n",
       "      <td>http://us.imdb.com/M/title-exact?Four%20Rooms%...</td>\n",
       "      <td>1995</td>\n",
       "      <td>Thriller</td>\n",
       "      <td>Thriller</td>\n",
       "    </tr>\n",
       "    <tr>\n",
       "      <th>3</th>\n",
       "      <td>3</td>\n",
       "      <td>Get Shorty (1995)</td>\n",
       "      <td>01-Jan-1995</td>\n",
       "      <td>NaN</td>\n",
       "      <td>http://us.imdb.com/M/title-exact?Get%20Shorty%...</td>\n",
       "      <td>1995</td>\n",
       "      <td>Drama</td>\n",
       "      <td>Action-Comedy-Drama</td>\n",
       "    </tr>\n",
       "    <tr>\n",
       "      <th>4</th>\n",
       "      <td>4</td>\n",
       "      <td>Copycat (1995)</td>\n",
       "      <td>01-Jan-1995</td>\n",
       "      <td>NaN</td>\n",
       "      <td>http://us.imdb.com/M/title-exact?Copycat%20(1995)</td>\n",
       "      <td>1995</td>\n",
       "      <td>Crime</td>\n",
       "      <td>Crime-Drama-Thriller</td>\n",
       "    </tr>\n",
       "  </tbody>\n",
       "</table>\n",
       "</div>"
      ],
      "text/plain": [
       "  movie_id        movie_title release_date  video_release_date  \\\n",
       "0        0   Toy Story (1995)  01-Jan-1995                 NaN   \n",
       "1        1   GoldenEye (1995)  01-Jan-1995                 NaN   \n",
       "2        2  Four Rooms (1995)  01-Jan-1995                 NaN   \n",
       "3        3  Get Shorty (1995)  01-Jan-1995                 NaN   \n",
       "4        4     Copycat (1995)  01-Jan-1995                 NaN   \n",
       "\n",
       "                                            IMDb URL  year       genre  \\\n",
       "0  http://us.imdb.com/M/title-exact?Toy%20Story%2...  1995  Children's   \n",
       "1  http://us.imdb.com/M/title-exact?GoldenEye%20(...  1995   Adventure   \n",
       "2  http://us.imdb.com/M/title-exact?Four%20Rooms%...  1995    Thriller   \n",
       "3  http://us.imdb.com/M/title-exact?Get%20Shorty%...  1995       Drama   \n",
       "4  http://us.imdb.com/M/title-exact?Copycat%20(1995)  1995       Crime   \n",
       "\n",
       "                    all_genres  \n",
       "0  Animation-Children's-Comedy  \n",
       "1    Action-Adventure-Thriller  \n",
       "2                     Thriller  \n",
       "3          Action-Comedy-Drama  \n",
       "4         Crime-Drama-Thriller  "
      ]
     },
     "execution_count": 58,
     "metadata": {},
     "output_type": "execute_result"
    }
   ],
   "source": [
    "movies.head()"
   ]
  },
  {
   "cell_type": "markdown",
   "id": "abc7fca6",
   "metadata": {},
   "source": [
    "#### Creating Movies Example Batch\n",
    "each example contains the following features:\n",
    "\n",
    "* movie_id: A tensor of strings of the movie ids that the user rated.\n",
    "* genre: A tensor of strings of the genres of those movies\n",
    "* year: A tensor of strings of the release year.\n"
   ]
  },
  {
   "cell_type": "code",
   "execution_count": 59,
   "id": "541b4109",
   "metadata": {},
   "outputs": [],
   "source": [
    "years_dict = {\n",
    "    movie: year for movie, year in zip(movies[\"movie_id\"], movies[\"year\"])\n",
    "}\n",
    "genres_dict = {\n",
    "    movie: genres.split('-')\n",
    "    for movie, genres in zip(movies[\"movie_id\"], movies[\"all_genres\"])\n",
    "}"
   ]
  },
  {
   "cell_type": "code",
   "execution_count": 60,
   "id": "c9e073b5",
   "metadata": {},
   "outputs": [],
   "source": [
    "def make_batch(ratings, batch_size):\n",
    "    \"\"\"Creates a batch of examples.\n",
    "        Args:\n",
    "        ratings: A DataFrame of ratings such that examples[\"movie_id\"] is a list of\n",
    "            movies rated by a user.\n",
    "        batch_size: The batch size.\n",
    "    \"\"\"\n",
    "    def pad(x, fill):\n",
    "        return pd.DataFrame.from_dict(x).fillna(fill).values\n",
    "\n",
    "    movie = []\n",
    "    year = []\n",
    "    genre = []\n",
    "    label = []\n",
    "    for movie_ids in ratings[\"movie_id\"].values:\n",
    "        movie.append(movie_ids)\n",
    "        genre.append([x for movie_id in movie_ids for x in genres_dict[movie_id]])\n",
    "        year.append([years_dict[movie_id] for movie_id in movie_ids])\n",
    "        label.append([int(movie_id) for movie_id in movie_ids])\n",
    "    features = {\n",
    "        \"movie_id\": pad(movie, \"\"),\n",
    "        \"year\": pad(year, \"\"),\n",
    "        \"genre\": pad(genre, \"\"),\n",
    "        \"label\": pad(label, -1)\n",
    "    }\n",
    "    batch = (\n",
    "        tf.data.Dataset.from_tensor_slices(features)\n",
    "        .shuffle(1000)\n",
    "        .repeat()\n",
    "        .batch(batch_size)\n",
    "        .make_one_shot_iterator()\n",
    "        .get_next())\n",
    "    return batch\n",
    "\n",
    "def select_random(x):\n",
    "    \"\"\"Selectes a random elements from each row of x.\"\"\"\n",
    "    def to_float(x):\n",
    "        return tf.cast(x, tf.float32)\n",
    "    def to_int(x):\n",
    "        return tf.cast(x, tf.int64)\n",
    "    batch_size = tf.shape(x)[0]\n",
    "    rn = tf.range(batch_size)\n",
    "    nnz = to_float(tf.count_nonzero(x >= 0, axis=1))\n",
    "    rnd = tf.random_uniform([batch_size])\n",
    "    ids = tf.stack([to_int(rn), to_int(nnz * rnd)], axis=1)\n",
    "    return to_int(tf.gather_nd(x, ids))"
   ]
  },
  {
   "cell_type": "markdown",
   "id": "33952031",
   "metadata": {},
   "source": [
    "#### Cross-Entropy Loss Function"
   ]
  },
  {
   "cell_type": "code",
   "execution_count": 61,
   "id": "35a03c7e",
   "metadata": {},
   "outputs": [],
   "source": [
    "def softmax_loss(user_embeddings, movie_embeddings, labels):\n",
    "    \"\"\"Returns the cross-entropy loss of the softmax model.\n",
    "    Args:\n",
    "        user_embeddings: A tensor of shape [batch_size, embedding_dim].\n",
    "        movie_embeddings: A tensor of shape [num_movies, embedding_dim].\n",
    "        labels: A tensor of [batch_size], such that labels[i] is the target label\n",
    "            for example i.\n",
    "    Returns:\n",
    "        The mean cross-entropy loss.\n",
    "    \"\"\"\n",
    "    # Verify that the embddings have compatible dimensions\n",
    "    user_emb_dim = user_embeddings.shape[1].value\n",
    "    movie_emb_dim = movie_embeddings.shape[1].value\n",
    "    if user_emb_dim != movie_emb_dim:\n",
    "        raise ValueError(\n",
    "            \"The user embedding dimension %d should match the movie embedding \"\n",
    "            \"dimension % d\" % (user_emb_dim, movie_emb_dim))\n",
    "\n",
    "    logits = tf.matmul(user_embeddings, movie_embeddings, transpose_b=True)\n",
    "    loss = tf.reduce_mean(tf.nn.sparse_softmax_cross_entropy_with_logits(\n",
    "        logits=logits, labels=labels))\n",
    "    return loss"
   ]
  },
  {
   "cell_type": "markdown",
   "id": "240e123a",
   "metadata": {},
   "source": [
    "#### Creating Softmax Model"
   ]
  },
  {
   "cell_type": "code",
   "execution_count": 62,
   "id": "7581fa07",
   "metadata": {},
   "outputs": [],
   "source": [
    "# Utility to split the data into training and test sets.\n",
    "def split_dataframe(df, holdout_fraction=0.1):\n",
    "    \"\"\"Splits a DataFrame into training and test sets.\n",
    "    Args:\n",
    "    df: a dataframe.\n",
    "    holdout_fraction: fraction of dataframe rows to use in the test set.\n",
    "    Returns:\n",
    "    train: dataframe for training\n",
    "    test: dataframe for testing\n",
    "    \"\"\"\n",
    "    test = df.sample(frac=holdout_fraction, replace=False)\n",
    "    train = df[~df.index.isin(test.index)]\n",
    "    return train, test"
   ]
  },
  {
   "cell_type": "code",
   "execution_count": 63,
   "id": "1473594d",
   "metadata": {},
   "outputs": [],
   "source": [
    "import collections\n",
    "from matplotlib import pyplot as plt\n",
    "import tensorflow.compat.v1 as tf\n",
    "tf.disable_v2_behavior()\n",
    "tf.logging.set_verbosity(tf.logging.ERROR)\n",
    "\n",
    "class CFModel(object):\n",
    "    \"\"\"Simple class that represents a collaborative filtering model\"\"\"\n",
    "    def __init__(self, embedding_vars, loss, metrics=None):\n",
    "        \"\"\"Initializes a CFModel.\n",
    "        Args:\n",
    "          embedding_vars: A dictionary of tf.Variables.\n",
    "          loss: A float Tensor. The loss to optimize.\n",
    "          metrics: optional list of dictionaries of Tensors. The metrics in each\n",
    "            dictionary will be plotted in a separate figure during training.\n",
    "        \"\"\"\n",
    "        self._embedding_vars = embedding_vars\n",
    "        self._loss = loss\n",
    "        self._metrics = metrics\n",
    "        self._embeddings = {k: None for k in embedding_vars}\n",
    "        self._session = None\n",
    "\n",
    "    @property\n",
    "    def embeddings(self):\n",
    "        \"\"\"The embeddings dictionary.\"\"\"\n",
    "        return self._embeddings\n",
    "    \n",
    "    def train(self, num_iterations=100, learning_rate=1.0, plot_results=True,\n",
    "            optimizer=tf.train.GradientDescentOptimizer):\n",
    "        \"\"\"Trains the model.\n",
    "        Args:\n",
    "          iterations: number of iterations to run.\n",
    "          learning_rate: optimizer learning rate.\n",
    "          plot_results: whether to plot the results at the end of training.\n",
    "          optimizer: the optimizer to use. Default to GradientDescentOptimizer.\n",
    "        Returns:\n",
    "          The metrics dictionary evaluated at the last iteration.\n",
    "        \"\"\"\n",
    "        with self._loss.graph.as_default():\n",
    "            opt = optimizer(learning_rate)\n",
    "            train_op = opt.minimize(self._loss)\n",
    "            local_init_op = tf.group(\n",
    "                tf.variables_initializer(opt.variables()),\n",
    "                tf.local_variables_initializer())\n",
    "            if self._session is None:\n",
    "                self._session = tf.Session()\n",
    "                with self._session.as_default():\n",
    "                    self._session.run(tf.global_variables_initializer())\n",
    "                    self._session.run(tf.tables_initializer())\n",
    "                    tf.train.start_queue_runners()\n",
    "\n",
    "        with self._session.as_default():\n",
    "            local_init_op.run()\n",
    "            iterations = []\n",
    "            metrics = self._metrics or ({},)\n",
    "            metrics_vals = [collections.defaultdict(list) for _ in self._metrics]\n",
    "\n",
    "            # Train and append results.\n",
    "            for i in range(num_iterations + 1):\n",
    "                _, results = self._session.run((train_op, metrics))\n",
    "                if (i % 10 == 0) or i == num_iterations:\n",
    "                    print(\"\\r iteration %d: \" % i + \", \".join(\n",
    "                            [\"%s=%f\" % (k, v) for r in results for k, v in r.items()]),\n",
    "                            end='')\n",
    "                    iterations.append(i)\n",
    "                    for metric_val, result in zip(metrics_vals, results):\n",
    "                        for k, v in result.items():\n",
    "                            metric_val[k].append(v)\n",
    "            for k, v in self._embedding_vars.items():\n",
    "                    self._embeddings[k] = v.eval()\n",
    "\n",
    "        if plot_results:\n",
    "            # Plot the metrics.\n",
    "            num_subplots = len(metrics)+1\n",
    "            fig = plt.figure()\n",
    "            fig.set_size_inches(num_subplots*10, 8)\n",
    "            for i, metric_vals in enumerate(metrics_vals):\n",
    "                ax = fig.add_subplot(1, num_subplots, i+1)\n",
    "                for k, v in metric_vals.items():\n",
    "                    ax.plot(iterations, v, label=k)\n",
    "                ax.set_xlim([1, num_iterations])\n",
    "                ax.legend()\n",
    "        return results"
   ]
  },
  {
   "cell_type": "code",
   "execution_count": 64,
   "id": "b388bcd1",
   "metadata": {},
   "outputs": [],
   "source": [
    "def build_softmax_model(rated_movies, embedding_cols, hidden_dims):\n",
    "    \"\"\"Builds a Softmax model for MovieLens.\n",
    "        Args:\n",
    "            rated_movies: DataFrame of traing examples.\n",
    "            embedding_cols: A dictionary mapping feature names (string) to embedding\n",
    "            column objects. This will be used in tf.feature_column.input_layer() to\n",
    "            create the input layer.\n",
    "        hidden_dims: int list of the dimensions of the hidden layers.\n",
    "        Returns:\n",
    "            A CFModel object.\n",
    "    \"\"\"\n",
    "    def create_network(features):\n",
    "        \"\"\"Maps input features dictionary to user embeddings.\n",
    "        Args:\n",
    "          features: A dictionary of input string tensors.\n",
    "        Returns:\n",
    "          outputs: A tensor of shape [batch_size, embedding_dim].\n",
    "        \"\"\"\n",
    "        # Create a bag-of-words embedding for each sparse feature.\n",
    "        inputs = tf.feature_column.input_layer(features, embedding_cols)\n",
    "        # Hidden layers.\n",
    "        input_dim = inputs.shape[1].value\n",
    "        for i, output_dim in enumerate(hidden_dims):\n",
    "            w = tf.get_variable(\n",
    "                \"hidden%d_w_\" % i, shape=[input_dim, output_dim],\n",
    "                initializer=tf.truncated_normal_initializer(\n",
    "                    stddev=1./np.sqrt(output_dim))) / 10.\n",
    "        outputs = tf.matmul(inputs, w)\n",
    "        input_dim = output_dim\n",
    "        inputs = outputs\n",
    "        return outputs\n",
    "\n",
    "    train_rated_movies, test_rated_movies = split_dataframe(rated_movies)\n",
    "    train_batch = make_batch(train_rated_movies, 200)\n",
    "    test_batch = make_batch(test_rated_movies, 100)\n",
    "\n",
    "    with tf.variable_scope(\"model\", reuse=False):\n",
    "        # Train\n",
    "        train_user_embeddings = create_network(train_batch)\n",
    "        train_labels = select_random(train_batch[\"label\"])\n",
    "    with tf.variable_scope(\"model\", reuse=True):\n",
    "        # Test\n",
    "        test_user_embeddings = create_network(test_batch)\n",
    "        test_labels = select_random(test_batch[\"label\"])\n",
    "        movie_embeddings = tf.get_variable(\n",
    "            \"input_layer/movie_id_embedding/embedding_weights\")\n",
    "\n",
    "    test_loss = softmax_loss(\n",
    "        test_user_embeddings, movie_embeddings, test_labels)\n",
    "    train_loss = softmax_loss(\n",
    "        train_user_embeddings, movie_embeddings, train_labels)\n",
    "    _, test_precision_at_10 = tf.metrics.precision_at_k(\n",
    "        labels=test_labels,\n",
    "        predictions=tf.matmul(test_user_embeddings, movie_embeddings, transpose_b=True),\n",
    "        k=10)\n",
    "\n",
    "    metrics = (\n",
    "        {\"train_loss\": train_loss, \"test_loss\": test_loss},\n",
    "        {\"test_precision_at_10\": test_precision_at_10}\n",
    "    )\n",
    "    embeddings = {\"movie_id\": movie_embeddings}\n",
    "    return CFModel(embeddings, train_loss, metrics)"
   ]
  },
  {
   "cell_type": "markdown",
   "id": "14829fea",
   "metadata": {},
   "source": [
    "#### Train Softmax Model"
   ]
  },
  {
   "cell_type": "code",
   "execution_count": 65,
   "id": "e10fb068",
   "metadata": {},
   "outputs": [
    {
     "name": "stdout",
     "output_type": "stream",
     "text": [
      " iteration 3000: train_loss=5.511327, test_loss=6.055743, test_precision_at_10=0.011750"
     ]
    },
    {
     "data": {
      "text/plain": [
       "({'train_loss': 5.511327, 'test_loss': 6.0557427},\n",
       " {'test_precision_at_10': 0.011749750083305565})"
      ]
     },
     "execution_count": 65,
     "metadata": {},
     "output_type": "execute_result"
    },
    {
     "data": {
      "image/png": "[encoded data removed]",
      "text/plain": [
       "<Figure size 2160x576 with 2 Axes>"
      ]
     },
     "metadata": {
      "needs_background": "light"
     },
     "output_type": "display_data"
    }
   ],
   "source": [
    "# Create feature embedding columns\n",
    "def make_embedding_col(key, embedding_dim):\n",
    "    categorical_col = tf.feature_column.categorical_column_with_vocabulary_list(\n",
    "        key=key, vocabulary_list=list(set(movies[key].values)), num_oov_buckets=0)\n",
    "    return tf.feature_column.embedding_column(\n",
    "        categorical_column=categorical_col, dimension=embedding_dim,\n",
    "        # default initializer: trancated normal with stddev=1/sqrt(dimension)\n",
    "        combiner='mean')\n",
    "\n",
    "with tf.Graph().as_default():\n",
    "    softmax_model = build_softmax_model(\n",
    "        rated_movies,\n",
    "        embedding_cols=[\n",
    "            make_embedding_col(\"movie_id\", 35),\n",
    "            make_embedding_col(\"genre\", 3),\n",
    "            make_embedding_col(\"year\", 2),\n",
    "        ],\n",
    "        hidden_dims=[35])\n",
    "\n",
    "\n",
    "softmax_model.train(\n",
    "    learning_rate=8., num_iterations=3000, optimizer=tf.train.AdagradOptimizer)"
   ]
  },
  {
   "cell_type": "markdown",
   "id": "80c9f544",
   "metadata": {},
   "source": [
    "#### Movie Suggestions"
   ]
  },
  {
   "cell_type": "code",
   "execution_count": 66,
   "id": "91f1a300",
   "metadata": {},
   "outputs": [],
   "source": [
    "def movie_neighbors(model, title_substring, measure=DOT, k=6):\n",
    "    # Search for movie ids that match the given substring.\n",
    "    ids =  movies[movies['movie_title'].str.contains(title_substring)].index.values\n",
    "    titles = movies.iloc[ids]['movie_title'].values\n",
    "    if len(titles) == 0:\n",
    "        raise ValueError(\"Found no movies with title %s\" % title_substring)\n",
    "    print(\"Nearest neighbors of : %s.\" % titles[0])\n",
    "    if len(titles) > 1:\n",
    "        print(\"[Found more than one matching movie. Other candidates: {}]\".format(\n",
    "            \", \".join(titles[1:])))\n",
    "    movie_id = ids[0]\n",
    "    scores = compute_scores(\n",
    "        model.embeddings[\"movie_id\"][movie_id], model.embeddings[\"movie_id\"],\n",
    "        measure)\n",
    "    score_key = measure + ' score'\n",
    "    df = pd.DataFrame({\n",
    "        score_key: list(scores),\n",
    "        'titles': movies['movie_title'],\n",
    "        'genres': movies['all_genres']\n",
    "    })\n",
    "    return df.sort_values([score_key], ascending=False).iloc[:k,:]"
   ]
  },
  {
   "cell_type": "code",
   "execution_count": 67,
   "id": "e5e38150",
   "metadata": {},
   "outputs": [
    {
     "name": "stdout",
     "output_type": "stream",
     "text": [
      "Nearest neighbors of : Aladdin (1992).\n",
      "[Found more than one matching movie. Other candidates: Aladdin and the King of Thieves (1996)]\n"
     ]
    },
    {
     "data": {
      "text/html": [
       "<div>\n",
       "<style scoped>\n",
       "    .dataframe tbody tr th:only-of-type {\n",
       "        vertical-align: middle;\n",
       "    }\n",
       "\n",
       "    .dataframe tbody tr th {\n",
       "        vertical-align: top;\n",
       "    }\n",
       "\n",
       "    .dataframe thead th {\n",
       "        text-align: right;\n",
       "    }\n",
       "</style>\n",
       "<table border=\"1\" class=\"dataframe\">\n",
       "  <thead>\n",
       "    <tr style=\"text-align: right;\">\n",
       "      <th></th>\n",
       "      <th>dot score</th>\n",
       "      <th>titles</th>\n",
       "      <th>genres</th>\n",
       "    </tr>\n",
       "  </thead>\n",
       "  <tbody>\n",
       "    <tr>\n",
       "      <th>94</th>\n",
       "      <td>21.204720</td>\n",
       "      <td>Aladdin (1992)</td>\n",
       "      <td>Animation-Children's-Comedy-Musical</td>\n",
       "    </tr>\n",
       "    <tr>\n",
       "      <th>70</th>\n",
       "      <td>19.567747</td>\n",
       "      <td>Lion King, The (1994)</td>\n",
       "      <td>Animation-Children's-Musical</td>\n",
       "    </tr>\n",
       "    <tr>\n",
       "      <th>431</th>\n",
       "      <td>19.196110</td>\n",
       "      <td>Fantasia (1940)</td>\n",
       "      <td>Animation-Children's-Musical</td>\n",
       "    </tr>\n",
       "    <tr>\n",
       "      <th>171</th>\n",
       "      <td>18.849806</td>\n",
       "      <td>Empire Strikes Back, The (1980)</td>\n",
       "      <td>Action-Adventure-Drama-Romance-Sci-Fi-War</td>\n",
       "    </tr>\n",
       "    <tr>\n",
       "      <th>0</th>\n",
       "      <td>18.533009</td>\n",
       "      <td>Toy Story (1995)</td>\n",
       "      <td>Animation-Children's-Comedy</td>\n",
       "    </tr>\n",
       "  </tbody>\n",
       "</table>\n",
       "</div>"
      ],
      "text/plain": [
       "     dot score                           titles  \\\n",
       "94   21.204720                   Aladdin (1992)   \n",
       "70   19.567747            Lion King, The (1994)   \n",
       "431  19.196110                  Fantasia (1940)   \n",
       "171  18.849806  Empire Strikes Back, The (1980)   \n",
       "0    18.533009                 Toy Story (1995)   \n",
       "\n",
       "                                        genres  \n",
       "94         Animation-Children's-Comedy-Musical  \n",
       "70                Animation-Children's-Musical  \n",
       "431               Animation-Children's-Musical  \n",
       "171  Action-Adventure-Drama-Romance-Sci-Fi-War  \n",
       "0                  Animation-Children's-Comedy  "
      ]
     },
     "execution_count": 67,
     "metadata": {},
     "output_type": "execute_result"
    }
   ],
   "source": [
    "movie_neighbors(softmax_model, \"Aladdin\", DOT).head()"
   ]
  },
  {
   "cell_type": "code",
   "execution_count": 68,
   "id": "31b0181f",
   "metadata": {},
   "outputs": [
    {
     "name": "stdout",
     "output_type": "stream",
     "text": [
      "Nearest neighbors of : Aladdin (1992).\n",
      "[Found more than one matching movie. Other candidates: Aladdin and the King of Thieves (1996)]\n"
     ]
    },
    {
     "data": {
      "text/html": [
       "<div>\n",
       "<style scoped>\n",
       "    .dataframe tbody tr th:only-of-type {\n",
       "        vertical-align: middle;\n",
       "    }\n",
       "\n",
       "    .dataframe tbody tr th {\n",
       "        vertical-align: top;\n",
       "    }\n",
       "\n",
       "    .dataframe thead th {\n",
       "        text-align: right;\n",
       "    }\n",
       "</style>\n",
       "<table border=\"1\" class=\"dataframe\">\n",
       "  <thead>\n",
       "    <tr style=\"text-align: right;\">\n",
       "      <th></th>\n",
       "      <th>cosine score</th>\n",
       "      <th>titles</th>\n",
       "      <th>genres</th>\n",
       "    </tr>\n",
       "  </thead>\n",
       "  <tbody>\n",
       "    <tr>\n",
       "      <th>94</th>\n",
       "      <td>1.000000</td>\n",
       "      <td>Aladdin (1992)</td>\n",
       "      <td>Animation-Children's-Comedy-Musical</td>\n",
       "    </tr>\n",
       "    <tr>\n",
       "      <th>70</th>\n",
       "      <td>0.871957</td>\n",
       "      <td>Lion King, The (1994)</td>\n",
       "      <td>Animation-Children's-Musical</td>\n",
       "    </tr>\n",
       "    <tr>\n",
       "      <th>431</th>\n",
       "      <td>0.870259</td>\n",
       "      <td>Fantasia (1940)</td>\n",
       "      <td>Animation-Children's-Musical</td>\n",
       "    </tr>\n",
       "    <tr>\n",
       "      <th>98</th>\n",
       "      <td>0.843601</td>\n",
       "      <td>Snow White and the Seven Dwarfs (1937)</td>\n",
       "      <td>Animation-Children's-Musical</td>\n",
       "    </tr>\n",
       "    <tr>\n",
       "      <th>587</th>\n",
       "      <td>0.838843</td>\n",
       "      <td>Beauty and the Beast (1991)</td>\n",
       "      <td>Animation-Children's-Musical</td>\n",
       "    </tr>\n",
       "  </tbody>\n",
       "</table>\n",
       "</div>"
      ],
      "text/plain": [
       "     cosine score                                  titles  \\\n",
       "94       1.000000                          Aladdin (1992)   \n",
       "70       0.871957                   Lion King, The (1994)   \n",
       "431      0.870259                         Fantasia (1940)   \n",
       "98       0.843601  Snow White and the Seven Dwarfs (1937)   \n",
       "587      0.838843             Beauty and the Beast (1991)   \n",
       "\n",
       "                                  genres  \n",
       "94   Animation-Children's-Comedy-Musical  \n",
       "70          Animation-Children's-Musical  \n",
       "431         Animation-Children's-Musical  \n",
       "98          Animation-Children's-Musical  \n",
       "587         Animation-Children's-Musical  "
      ]
     },
     "execution_count": 68,
     "metadata": {},
     "output_type": "execute_result"
    }
   ],
   "source": [
    "movie_neighbors(softmax_model, \"Aladdin\", COSINE).head()"
   ]
  },
  {
   "cell_type": "code",
   "execution_count": null,
   "id": "b6db8667",
   "metadata": {},
   "outputs": [],
   "source": []
  }
 ],
 "metadata": {
  "kernelspec": {
   "display_name": "Python 3",
   "language": "python",
   "name": "python3"
  },
  "language_info": {
   "codemirror_mode": {
    "name": "ipython",
    "version": 3
   },
   "file_extension": ".py",
   "mimetype": "text/x-python",
   "name": "python",
   "nbconvert_exporter": "python",
   "pygments_lexer": "ipython3",
   "version": "3.8.8"
  }
 },
 "nbformat": 4,
 "nbformat_minor": 5
}
